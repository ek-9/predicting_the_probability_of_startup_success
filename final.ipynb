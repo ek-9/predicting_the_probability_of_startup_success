{
 "cells": [
  {
   "cell_type": "code",
   "outputs": [],
   "source": [
    "import pandas as pd\n",
    "import numpy as np\n",
    "\n",
    "train = pd.read_csv(\"open/train.csv\")\n",
    "test = pd.read_csv(\"open/test.csv\")"
   ],
   "metadata": {
    "collapsed": false,
    "ExecuteTime": {
     "end_time": "2025-06-04T17:27:05.266107Z",
     "start_time": "2025-06-04T17:27:05.212319Z"
    }
   },
   "id": "1ea422b068301083",
   "execution_count": 73
  },
  {
   "cell_type": "code",
   "outputs": [],
   "source": [
    "def convert_value(value):\n",
    "    if pd.isna(value):\n",
    "        return np.nan\n",
    "    elif \"1500-2500\" in value:\n",
    "        return 1\n",
    "    elif \"2500-3500\" in value:\n",
    "        return 2\n",
    "    elif \"3500-4500\" in value:\n",
    "        return 3\n",
    "    elif \"4500-6000\" in value:\n",
    "        return 4\n",
    "    elif \"6000이상\" in value:\n",
    "        return 5\n",
    "\n",
    "\n",
    "# 데이터 변환\n",
    "train['기업가치(백억원)'] = train['기업가치(백억원)'].apply(convert_value)\n",
    "test['기업가치(백억원)'] = test['기업가치(백억원)'].apply(convert_value)"
   ],
   "metadata": {
    "collapsed": false,
    "ExecuteTime": {
     "end_time": "2025-06-04T17:27:05.278671Z",
     "start_time": "2025-06-04T17:27:05.271843Z"
    }
   },
   "id": "9366cd93a57830ad",
   "execution_count": 74
  },
  {
   "cell_type": "markdown",
   "source": [
    "### 결측치 처리"
   ],
   "metadata": {
    "collapsed": false
   },
   "id": "35af32fc1f8d7c92"
  },
  {
   "cell_type": "code",
   "outputs": [],
   "source": [
    "# '분야' 결측치 처리\n",
    "train['분야'] = train['분야'].fillna('NULL')\n",
    "test['분야'] = test['분야'].fillna('NULL')"
   ],
   "metadata": {
    "collapsed": false,
    "ExecuteTime": {
     "end_time": "2025-06-04T17:27:05.282610Z",
     "start_time": "2025-06-04T17:27:05.277038Z"
    }
   },
   "id": "fc361ffa1e092e29",
   "execution_count": 75
  },
  {
   "cell_type": "code",
   "outputs": [],
   "source": [
    "train['기업가치(백억원)'] = train.groupby('분야')['기업가치(백억원)'].transform(lambda x: x.fillna(x.mean()))\n",
    "test['기업가치(백억원)'] = test.groupby('분야')['기업가치(백억원)'].transform(lambda x: x.fillna(x.mean()))"
   ],
   "metadata": {
    "collapsed": false,
    "ExecuteTime": {
     "end_time": "2025-06-04T17:27:05.323335Z",
     "start_time": "2025-06-04T17:27:05.282323Z"
    }
   },
   "id": "b6fb6f5f004206e4",
   "execution_count": 76
  },
  {
   "cell_type": "code",
   "outputs": [],
   "source": [
    "numerical_cols = ['직원 수','고객수(백만명)']\n",
    "for col in numerical_cols:\n",
    "    train[col] = train[col].fillna(train[col].mean())\n",
    "    test[col] = test[col].fillna(test[col].mean())"
   ],
   "metadata": {
    "collapsed": false,
    "ExecuteTime": {
     "end_time": "2025-06-04T17:27:05.324251Z",
     "start_time": "2025-06-04T17:27:05.290188Z"
    }
   },
   "id": "c44b14c213275bac",
   "execution_count": 77
  },
  {
   "cell_type": "code",
   "outputs": [],
   "source": [
    "from sklearn.preprocessing import LabelEncoder\n",
    "\n",
    "# 투자단계 인코딩\n",
    "investment_mapping = {\n",
    "    \"Seed\": 0,\n",
    "    \"Series A\": 1,\n",
    "    \"Series B\": 2,\n",
    "    \"Series C\": 3,\n",
    "    \"IPO\": 4\n",
    "}\n",
    "\n",
    "# 인수여부와 상장여부 인코딩\n",
    "binary_mapping = {\"Yes\": 1, \"No\": 0}\n",
    "\n",
    "train[\"인수여부\"] = train[\"인수여부\"].map(binary_mapping)\n",
    "test[\"인수여부\"] = test[\"인수여부\"].map(binary_mapping)\n",
    "\n",
    "train[\"상장여부\"] = train[\"상장여부\"].map(binary_mapping)\n",
    "test[\"상장여부\"] = test[\"상장여부\"].map(binary_mapping)\n",
    "\n",
    "\n",
    "train[\"투자단계\"] = train[\"투자단계\"].map(investment_mapping)\n",
    "test[\"투자단계\"] = test[\"투자단계\"].map(investment_mapping)\n",
    "\n",
    "\n",
    "# 범주형 인코딩\n",
    "categorical_features = ['국가', '분야']\n",
    "for feature in categorical_features:\n",
    "    le = LabelEncoder()\n",
    "    train[feature] = le.fit_transform(train[feature].astype(str))\n",
    "    test[feature] = le.transform(test[feature].astype(str))"
   ],
   "metadata": {
    "collapsed": false,
    "ExecuteTime": {
     "end_time": "2025-06-04T17:27:05.326662Z",
     "start_time": "2025-06-04T17:27:05.295996Z"
    }
   },
   "id": "4ce32fbf5d26774f",
   "execution_count": 78
  },
  {
   "cell_type": "markdown",
   "source": [
    "## Feature Engineering"
   ],
   "metadata": {
    "collapsed": false
   },
   "id": "7e3e3038dffb692f"
  },
  {
   "cell_type": "code",
   "outputs": [],
   "source": [
    "# 최대 설립년도 계산\n",
    "max_year = train[\"설립연도\"].max()\n",
    "\n",
    "# 지속기간 파생변수 생성\n",
    "train[\"지속기간\"] = max_year - train[\"설립연도\"] + 1\n",
    "test[\"지속기간\"] = max_year - test[\"설립연도\"] + 1"
   ],
   "metadata": {
    "collapsed": false,
    "ExecuteTime": {
     "end_time": "2025-06-04T17:27:05.327227Z",
     "start_time": "2025-06-04T17:27:05.305292Z"
    }
   },
   "id": "bb937747c44ae205",
   "execution_count": 79
  },
  {
   "cell_type": "code",
   "outputs": [],
   "source": [
    "# 고객수와 비율 맞추기\n",
    "train[\"팔로워\"] = train[\"SNS 팔로워 수(백만명)\"]*100\n",
    "test[\"팔로워\"] = test[\"SNS 팔로워 수(백만명)\"]*100"
   ],
   "metadata": {
    "collapsed": false,
    "ExecuteTime": {
     "end_time": "2025-06-04T17:27:05.343122Z",
     "start_time": "2025-06-04T17:27:05.329799Z"
    }
   },
   "id": "56e5a7ac6c69d7ea",
   "execution_count": 80
  },
  {
   "cell_type": "code",
   "outputs": [],
   "source": [
    "# 0인 경우 변경\n",
    "train[\"팔로워\"] = train[\"팔로워\"].replace(0, 100)\n",
    "test[\"팔로워\"] = test[\"팔로워\"].replace(0, 100)"
   ],
   "metadata": {
    "collapsed": false,
    "ExecuteTime": {
     "end_time": "2025-06-04T17:27:05.364727Z",
     "start_time": "2025-06-04T17:27:05.354191Z"
    }
   },
   "id": "3e1b80b84322b6c1",
   "execution_count": 81
  },
  {
   "cell_type": "code",
   "outputs": [],
   "source": [
    "train[\"팔로워대비고객수\"] = train['고객수(백만명)'] / train[\"팔로워\"]\n",
    "test[\"팔로워대비고객수\"] = test['고객수(백만명)'] / test[\"팔로워\"]"
   ],
   "metadata": {
    "collapsed": false,
    "ExecuteTime": {
     "end_time": "2025-06-04T17:27:05.367819Z",
     "start_time": "2025-06-04T17:27:05.364173Z"
    }
   },
   "id": "f860895f12fb590b",
   "execution_count": 82
  },
  {
   "cell_type": "code",
   "outputs": [],
   "source": [
    "train[\"총투자금대비연매출\"] = train['연매출(억원)'] / train[\"총 투자금(억원)\"]\n",
    "test[\"총투자금대비연매출\"] = test['연매출(억원)'] / test[\"총 투자금(억원)\"]"
   ],
   "metadata": {
    "collapsed": false,
    "ExecuteTime": {
     "end_time": "2025-06-04T17:27:05.377791Z",
     "start_time": "2025-06-04T17:27:05.370090Z"
    }
   },
   "id": "9c1a4d104a74e399",
   "execution_count": 83
  },
  {
   "cell_type": "code",
   "outputs": [],
   "source": [
    "train[\"연매출대비직원수\"] = train['직원 수'] / train[\"총 투자금(억원)\"]\n",
    "test[\"연매출대비직원수\"] = test['직원 수'] / test[\"총 투자금(억원)\"]"
   ],
   "metadata": {
    "collapsed": false,
    "ExecuteTime": {
     "end_time": "2025-06-04T17:27:05.378358Z",
     "start_time": "2025-06-04T17:27:05.373493Z"
    }
   },
   "id": "59597d916650b5cb",
   "execution_count": 84
  },
  {
   "cell_type": "code",
   "outputs": [],
   "source": [
    "# 피쳐 중요도 낮은 칼럼 drop\n",
    "train = train.drop(columns=[\"ID\",\"설립연도\",\"SNS 팔로워 수(백만명)\",\"투자단계\",\"인수여부\"])\n",
    "X_test = test.drop(columns=[\"ID\",\"설립연도\",\"SNS 팔로워 수(백만명)\",\"투자단계\",\"인수여부\"])"
   ],
   "metadata": {
    "collapsed": false,
    "ExecuteTime": {
     "end_time": "2025-06-04T17:27:05.389666Z",
     "start_time": "2025-06-04T17:27:05.380785Z"
    }
   },
   "id": "cf1004d7647f836",
   "execution_count": 85
  },
  {
   "cell_type": "code",
   "outputs": [],
   "source": [
    "# 데이터 분리\n",
    "X_train = train.drop(columns=['성공확률'])\n",
    "y_train = train['성공확률']"
   ],
   "metadata": {
    "collapsed": false,
    "ExecuteTime": {
     "end_time": "2025-06-04T17:27:05.394563Z",
     "start_time": "2025-06-04T17:27:05.386412Z"
    }
   },
   "id": "96bdf7e653480038",
   "execution_count": 86
  },
  {
   "cell_type": "code",
   "outputs": [],
   "source": [
    "from sklearn.preprocessing import RobustScaler\n",
    "from sklearn.preprocessing import MinMaxScaler\n",
    "\n",
    "# scaler = RobustScaler()\n",
    "\n",
    "scaler = MinMaxScaler()\n",
    "train_scaled = scaler.fit_transform(X_train)\n",
    "test_scaled = scaler.transform(X_test)"
   ],
   "metadata": {
    "collapsed": false,
    "ExecuteTime": {
     "end_time": "2025-06-04T17:27:05.398157Z",
     "start_time": "2025-06-04T17:27:05.392834Z"
    }
   },
   "id": "9a6ee35c2f7b72a3",
   "execution_count": 87
  },
  {
   "cell_type": "markdown",
   "source": [
    "## Modeling"
   ],
   "metadata": {
    "collapsed": false
   },
   "id": "28fc2c6b3334fc6b"
  },
  {
   "cell_type": "code",
   "outputs": [],
   "source": [
    "rf_features = [\n",
    "    \"국가\", \"분야\", \"직원 수\",\n",
    "    \"상장여부\", \"고객수(백만명)\", \"총 투자금(억원)\",\n",
    "    \"연매출(억원)\", \"기업가치(백억원)\", \"지속기간\",\n",
    "    \"팔로워대비고객수\", \"총투자금대비연매출\", \"연매출대비직원수\"\n",
    "]"
   ],
   "metadata": {
    "collapsed": false,
    "ExecuteTime": {
     "end_time": "2025-06-04T17:27:05.406135Z",
     "start_time": "2025-06-04T17:27:05.398778Z"
    }
   },
   "id": "55005b97bc16e26b",
   "execution_count": 88
  },
  {
   "cell_type": "code",
   "outputs": [],
   "source": [
    "xgb_features = [\n",
    "    \"지속기간\", \"직원 수\", \"고객수(백만명)\", \"총 투자금(억원)\",\"팔로워\",\n",
    "    \"연매출(억원)\", \"기업가치(백억원)\",\n",
    "    \"팔로워대비고객수\", \"총투자금대비연매출\", \"연매출대비직원수\"\n",
    "]"
   ],
   "metadata": {
    "collapsed": false,
    "ExecuteTime": {
     "end_time": "2025-06-04T17:27:05.415590Z",
     "start_time": "2025-06-04T17:27:05.407767Z"
    }
   },
   "id": "7b282142a173a93a",
   "execution_count": 89
  },
  {
   "cell_type": "code",
   "outputs": [],
   "source": [
    "# X_rf, X_xgb 생성\n",
    "X_rf = train[rf_features]\n",
    "X_xgb = train[xgb_features]\n",
    "y = train[\"성공확률\"]\n",
    "\n",
    "# 테스트셋도 동일하게 처리\n",
    "X_rf_test = test[rf_features]\n",
    "X_xgb_test = test[xgb_features]"
   ],
   "metadata": {
    "collapsed": false,
    "ExecuteTime": {
     "end_time": "2025-06-04T17:27:05.422570Z",
     "start_time": "2025-06-04T17:27:05.411218Z"
    }
   },
   "id": "5ec914b5c8c6d1b7",
   "execution_count": 90
  },
  {
   "cell_type": "code",
   "outputs": [],
   "source": [
    "from sklearn.preprocessing import MinMaxScaler\n",
    "from sklearn.preprocessing import StandardScaler\n",
    "\n",
    "scaler_rf = MinMaxScaler()\n",
    "X_rf_scaled = scaler_rf.fit_transform(X_rf)\n",
    "X_rf_test_scaled = scaler_rf.transform(X_rf_test)\n",
    "\n",
    "scaler_xgb = MinMaxScaler()\n",
    "X_xgb_scaled = scaler_xgb.fit_transform(X_xgb)\n",
    "X_xgb_test_scaled = scaler_xgb.transform(X_xgb_test)"
   ],
   "metadata": {
    "collapsed": false,
    "ExecuteTime": {
     "end_time": "2025-06-04T17:27:05.427167Z",
     "start_time": "2025-06-04T17:27:05.419195Z"
    }
   },
   "id": "29d152f7fa0948bb",
   "execution_count": 91
  },
  {
   "cell_type": "code",
   "outputs": [],
   "source": [
    "from xgboost import XGBRegressor\n",
    "from sklearn.ensemble import RandomForestRegressor, VotingRegressor\n",
    "import optuna\n",
    "from sklearn.model_selection import cross_val_score\n",
    "# Optuna - XGBoost (n_estimators 고정)\n",
    "# 모델 출력 지움\n",
    "# optuna.logging.set_verbosity()\n",
    "\n",
    "def objective_xgb(trial):\n",
    "    model = XGBRegressor(\n",
    "        n_estimators=1000,  # 고정\n",
    "        learning_rate=trial.suggest_float('learning_rate', 0.01, 0.3),\n",
    "        max_depth=trial.suggest_int('max_depth', 3, 30),\n",
    "        min_child_weight=trial.suggest_int('min_child_weight', 1, 10),\n",
    "        subsample=trial.suggest_float('subsample', 0.5, 1.0),\n",
    "        colsample_bytree=trial.suggest_float('colsample_bytree', 0.5, 1.0),\n",
    "        reg_alpha=trial.suggest_float('reg_alpha', 0.0, 1.0),\n",
    "        reg_lambda=trial.suggest_float('reg_lambda', 0.0, 1.0),\n",
    "        random_state=42,\n",
    "        n_jobs=-1\n",
    "    )\n",
    "    return cross_val_score(model, X_xgb_scaled, y, cv=5, scoring='neg_mean_absolute_error', n_jobs=-1).mean()\n",
    "\n",
    "study_xgb = optuna.create_study(direction='maximize')\n",
    "study_xgb.optimize(objective_xgb, n_trials=50)\n",
    "\n",
    "xgb_model = XGBRegressor(**study_xgb.best_params, n_estimators=1000, random_state=42, n_jobs=-1)\n",
    "\n",
    "# Trial 31 finished with value: -0.19781690928957624 and parameters: {'learning_rate': 0.011493418991538797, 'max_depth': 26, 'min_child_weight': 1, 'subsample': 0.986837779638244, 'colsample_bytree': 0.8150052541533243, 'reg_alpha': 0.134242767179849, 'reg_lambda': 0.6501537277300832}. Best is trial 31 with value: -0.19781690928957624."
   ],
   "metadata": {
    "collapsed": false
   },
   "id": "77599a274129ff4c",
   "execution_count": null
  },
  {
   "cell_type": "code",
   "outputs": [],
   "source": [
    "# Optuna - RandomForest (n_estimators 고정)\n",
    "def objective_rf(trial):\n",
    "    model = RandomForestRegressor(\n",
    "        n_estimators=1000,  # 고정\n",
    "        max_depth=trial.suggest_int('max_depth', 3, 20),\n",
    "        min_samples_split=trial.suggest_int('min_samples_split', 2, 10),\n",
    "        min_samples_leaf=trial.suggest_int('min_samples_leaf', 1, 4),\n",
    "        max_features=trial.suggest_categorical('max_features', ['sqrt', 'log2', None]),\n",
    "        random_state=42,\n",
    "        n_jobs=-1\n",
    "    )\n",
    "    return cross_val_score(model, X_rf_scaled, y, cv=5, scoring='neg_mean_absolute_error', n_jobs=-1).mean()\n",
    "\n",
    "study_rf = optuna.create_study(direction='maximize')\n",
    "study_rf.optimize(objective_rf, n_trials=50)\n",
    "\n",
    "rf_model = RandomForestRegressor(**study_rf.best_params, n_estimators=1000, random_state=42, n_jobs=-1)\n",
    "\n",
    "# Trial 18 finished with value: -0.20069994722175294 and parameters: {'max_depth': 20, 'min_samples_split': 3, 'min_samples_leaf': 1, 'max_features': 'log2'}. Best is trial 18 with value: -0.20069994722175294."
   ],
   "metadata": {
    "collapsed": false
   },
   "id": "6f7da0892808da18",
   "execution_count": null
  },
  {
   "cell_type": "code",
   "outputs": [],
   "source": [
    "from lightgbm import LGBMRegressor\n",
    "\n",
    "def objective_lgbm(trial):\n",
    "    model = LGBMRegressor(\n",
    "        n_estimators=1000,  # 고정\n",
    "        learning_rate=trial.suggest_float('learning_rate', 0.01, 0.3),\n",
    "        max_depth=trial.suggest_int('max_depth', 3, 30),\n",
    "        num_leaves=trial.suggest_int('num_leaves', 20, 300),\n",
    "        min_child_samples=trial.suggest_int('min_child_samples', 5, 30),\n",
    "        subsample=trial.suggest_float('subsample', 0.5, 1.0),\n",
    "        colsample_bytree=trial.suggest_float('colsample_bytree', 0.5, 1.0),\n",
    "        reg_alpha=trial.suggest_float('reg_alpha', 0.0, 1.0),\n",
    "        reg_lambda=trial.suggest_float('reg_lambda', 0.0, 1.0),\n",
    "        random_state=42,\n",
    "        n_jobs=-1\n",
    "    )\n",
    "    return cross_val_score(model, X_xgb_scaled, y, cv=5, scoring='neg_mean_absolute_error', n_jobs=-1).mean()\n",
    "\n",
    "study_lgbm = optuna.create_study(direction='maximize')\n",
    "study_lgbm.optimize(objective_lgbm, n_trials=50)\n",
    "\n",
    "lgbm_model = LGBMRegressor(**study_lgbm.best_params, n_estimators=1000, random_state=42, n_jobs=-1)\n",
    "\n",
    "# Trial 45 finished with value: -0.2006139422257776 and parameters: {'learning_rate': 0.03983658262105122, 'max_depth': 22, 'num_leaves': 267, 'min_child_samples': 6, 'subsample': 0.5808921038696877, 'colsample_bytree': 0.5772412168053515, 'reg_alpha': 0.48219141773712604, 'reg_lambda': 0.9574894664559317}. Best is trial 45 with value: -0.2006139422257776."
   ],
   "metadata": {
    "collapsed": false
   },
   "id": "3aa3fa4a57aa2228",
   "execution_count": null
  },
  {
   "cell_type": "code",
   "outputs": [],
   "source": [
    "xgb_model.fit(X_xgb_scaled, y)\n",
    "rf_model.fit(X_rf_scaled, y)\n",
    "lgbm_model.fit(X_xgb_scaled, y)"
   ],
   "metadata": {
    "collapsed": false
   },
   "id": "6c3fcb989d3f744",
   "execution_count": null
  },
  {
   "cell_type": "code",
   "outputs": [],
   "source": [
    "xgb_preds = xgb_model.predict(X_xgb_test_scaled)\n",
    "rf_preds = rf_model.predict(X_rf_test_scaled)\n",
    "lgbm_preds = lgbm_model.predict(X_xgb_test_scaled)"
   ],
   "metadata": {
    "collapsed": false,
    "ExecuteTime": {
     "end_time": "2025-06-04T17:57:03.738191Z",
     "start_time": "2025-06-04T17:57:03.552426Z"
    }
   },
   "id": "df1304215196d3df",
   "execution_count": 97
  },
  {
   "cell_type": "code",
   "outputs": [],
   "source": [
    "test_preds = (6 * rf_preds + 2 * xgb_preds + 2 * lgbm_preds) / 10"
   ],
   "metadata": {
    "collapsed": false,
    "ExecuteTime": {
     "end_time": "2025-06-04T17:57:03.742695Z",
     "start_time": "2025-06-04T17:57:03.738964Z"
    }
   },
   "id": "fce3172c54a47737",
   "execution_count": 98
  },
  {
   "cell_type": "markdown",
   "source": [],
   "metadata": {
    "collapsed": false
   },
   "id": "a81b4f08fd893b25"
  },
  {
   "cell_type": "code",
   "outputs": [],
   "source": [
    "# sample_submission 파일을 불러옵니다.\n",
    "submit = pd.read_csv('open/sample_submission.csv')"
   ],
   "metadata": {
    "collapsed": false,
    "ExecuteTime": {
     "end_time": "2025-06-04T17:57:03.750855Z",
     "start_time": "2025-06-04T17:57:03.745305Z"
    }
   },
   "id": "89b72309087fe92d",
   "execution_count": 100
  },
  {
   "cell_type": "code",
   "outputs": [],
   "source": [
    "submit['성공확률'] = test_preds\n",
    "submit[\"성공확률\"] = submit[\"성공확률\"].round(1)"
   ],
   "metadata": {
    "collapsed": false,
    "ExecuteTime": {
     "end_time": "2025-06-04T17:57:03.755294Z",
     "start_time": "2025-06-04T17:57:03.752890Z"
    }
   },
   "id": "a7b9d0249380effd",
   "execution_count": 101
  },
  {
   "cell_type": "code",
   "outputs": [],
   "source": [
    "# submit.to_csv('./final2_2.csv',index=False)"
   ],
   "metadata": {
    "collapsed": false,
    "ExecuteTime": {
     "end_time": "2025-06-04T17:57:03.759538Z",
     "start_time": "2025-06-04T17:57:03.755808Z"
    }
   },
   "id": "bc1cab4115c4b434",
   "execution_count": 102
  },
  {
   "cell_type": "code",
   "outputs": [],
   "source": [
    "submit.to_csv('./f59.csv',index=False)"
   ],
   "metadata": {
    "collapsed": false,
    "ExecuteTime": {
     "end_time": "2025-06-04T17:57:03.767252Z",
     "start_time": "2025-06-04T17:57:03.758612Z"
    }
   },
   "id": "4914ac1616036ef0",
   "execution_count": 103
  }
 ],
 "metadata": {
  "kernelspec": {
   "display_name": "Python 3",
   "language": "python",
   "name": "python3"
  },
  "language_info": {
   "codemirror_mode": {
    "name": "ipython",
    "version": 2
   },
   "file_extension": ".py",
   "mimetype": "text/x-python",
   "name": "python",
   "nbconvert_exporter": "python",
   "pygments_lexer": "ipython2",
   "version": "2.7.6"
  }
 },
 "nbformat": 4,
 "nbformat_minor": 5
}
